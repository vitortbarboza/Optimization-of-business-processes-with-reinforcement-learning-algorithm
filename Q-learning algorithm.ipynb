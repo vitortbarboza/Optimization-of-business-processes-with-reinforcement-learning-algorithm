{
 "cells": [
  {
   "cell_type": "code",
   "execution_count": 1,
   "id": "b8a4dbbc",
   "metadata": {},
   "outputs": [],
   "source": [
    "#Library\n",
    "import numpy as np"
   ]
  },
  {
   "cell_type": "code",
   "execution_count": 2,
   "id": "780edecb",
   "metadata": {},
   "outputs": [],
   "source": [
    "#Setting parameters gamma and alpha to Q-Learning\n",
    "gamma = 0.75\n",
    "alpha = 0.9"
   ]
  },
  {
   "cell_type": "code",
   "execution_count": 3,
   "id": "ee3324ec",
   "metadata": {},
   "outputs": [],
   "source": [
    "# Part 1 - Environment Definition\n",
    "location_to_state = {'A': 0,\n",
    "                     'B': 1,\n",
    "                     'C': 2,\n",
    "                     'D': 3,\n",
    "                     'E': 4,\n",
    "                     'F': 5,\n",
    "                     'G': 6,\n",
    "                     'H': 7,\n",
    "                     'I': 8,\n",
    "                     'J': 9,\n",
    "                     'K': 10,\n",
    "                     'L': 11}\n"
   ]
  },
  {
   "cell_type": "code",
   "execution_count": 4,
   "id": "9cfae29e",
   "metadata": {},
   "outputs": [],
   "source": [
    "actions = [0,1,2,3,4,5,6,7,8,9,10,11]"
   ]
  },
  {
   "cell_type": "code",
   "execution_count": 15,
   "id": "990fd92d",
   "metadata": {},
   "outputs": [],
   "source": [
    "#Rewards\n",
    "R = np.array([[0,1,0,0,0,0,0,0,0,0,0,0],\n",
    "              [1,0,1,0,0,1,0,0,0,0,0,0],\n",
    "              [0,1,0,0,0,0,1,0,0,0,0,0],\n",
    "              [0,0,0,0,0,0,0,1,0,0,0,0],\n",
    "              [0,0,0,0,0,0,0,0,1,0,0,0],\n",
    "              [0,1,0,0,0,0,0,0,0,1,0,0],\n",
    "              [0,0,1,0,0,0,1,1,0,0,0,0],\n",
    "              [0,0,0,1,0,0,1,0,0,0,0,1],\n",
    "              [0,0,0,0,1,0,0,0,0,1,0,0],\n",
    "              [0,0,0,0,0,1,0,0,1,0,1,0],\n",
    "              [0,0,0,0,0,0,0,0,0,1,0,1],\n",
    "              [0,0,0,0,0,0,0,1,0,0,1,0]])\n"
   ]
  },
  {
   "cell_type": "code",
   "execution_count": 19,
   "id": "84360118",
   "metadata": {},
   "outputs": [],
   "source": [
    "# Part 2 - Creating the AI solution with Q-Learning\n",
    "Q=np.array(np.zeros([12,12]))\n",
    "for i in range(1000):\n",
    "    current_state=np.random.randint(0,12)\n",
    "    playable_actions=[]\n",
    "    for j in range(12):\n",
    "        if R[current_state, j]>0:\n",
    "            playable_actions.append(j)\n",
    "    next_state=np.random.choice(playable_actions)\n",
    "    TD=R[current_state, next_state]+ gamma* Q[next_state, np.argmax(Q[next_state],)]-Q[current_state, next_state]\n",
    "    Q[current_state, next_state]= Q[current_state, next_state]+alpha*TD "
   ]
  },
  {
   "cell_type": "code",
   "execution_count": 17,
   "id": "9b4e1f64",
   "metadata": {},
   "outputs": [],
   "source": [
    "#Part 3 - Results (Getting in production)\n",
    "#Rewards\n",
    "R = np.array([[0,1,0,0,0,0,0,0,0,0,0,0],\n",
    "              [1,0,1,0,0,1,0,0,0,0,0,0],\n",
    "              [0,1,0,0,0,0,1,0,0,0,0,0],\n",
    "              [0,0,0,0,0,0,0,1,0,0,0,0],\n",
    "              [0,0,0,0,0,0,0,0,1,0,0,0],\n",
    "              [0,1,0,0,0,0,0,0,0,1,0,0],\n",
    "              [0,0,1,0,0,0,1000,1,0,0,0,0],\n",
    "              [0,0,0,1,0,0,1,0,0,0,0,1],\n",
    "              [0,0,0,0,1,0,0,0,0,1,0,0],\n",
    "              [0,0,0,0,0,1,0,0,1,0,1,0],\n",
    "              [0,0,0,0,0,0,0,0,0,1,0,1],\n",
    "              [0,0,0,0,0,0,0,1,0,0,1,0]])\n"
   ]
  },
  {
   "cell_type": "code",
   "execution_count": 23,
   "id": "5bae9f7a",
   "metadata": {},
   "outputs": [
    {
     "name": "stdout",
     "output_type": "stream",
     "text": [
      "[[   0 1675    0    0    0    0    0    0    0    0    0    0]\n",
      " [1256    0 2235    0    0 1246    0    0    0    0    0    0]\n",
      " [   0 1661    0    0    0    0 2982    0    0    0    0    0]\n",
      " [   0    0    0    0    0    0    0 2234    0    0    0    0]\n",
      " [   0    0    0    0    0    0    0    0  706    0    0    0]\n",
      " [   0 1661    0    0    0    0    0    0    0  930    0    0]\n",
      " [   0    0 2237    0    0    0 3975 2233    0    0    0    0]\n",
      " [   0    0    0 1651    0    0 2977    0    0    0    0 1651]\n",
      " [   0    0    0    0  530    0    0    0    0  941    0    0]\n",
      " [   0    0    0    0    0 1246    0    0  702    0 1253    0]\n",
      " [   0    0    0    0    0    0    0    0    0  936    0 1672]\n",
      " [   0    0    0    0    0    0    0 2230    0    0 1239    0]]\n"
     ]
    }
   ],
   "source": [
    "print(Q.astype(int))"
   ]
  },
  {
   "cell_type": "code",
   "execution_count": 35,
   "id": "ebb5ebdf",
   "metadata": {},
   "outputs": [],
   "source": [
    "state_to_location = {state: location for location, state in location_to_state.items()}"
   ]
  },
  {
   "cell_type": "code",
   "execution_count": 36,
   "id": "cc49843a",
   "metadata": {},
   "outputs": [],
   "source": [
    "def route(starting_location, ending_location):\n",
    "    route = [starting_location]\n",
    "    next_location = starting_location\n",
    "    while (next_location != ending_location):\n",
    "        starting_state = location_to_state[starting_location]\n",
    "        next_state = np.argmax(Q[starting_state])\n",
    "        next_location = state_to_location[next_state]\n",
    "        route.append(next_location)\n",
    "        starting_location = next_location\n",
    "    return route"
   ]
  },
  {
   "cell_type": "code",
   "execution_count": 38,
   "id": "f2ed9f0c",
   "metadata": {},
   "outputs": [
    {
     "name": "stdout",
     "output_type": "stream",
     "text": [
      "Route: \n"
     ]
    },
    {
     "data": {
      "text/plain": [
       "['E', 'I', 'J', 'K', 'L', 'H', 'G']"
      ]
     },
     "execution_count": 38,
     "metadata": {},
     "output_type": "execute_result"
    }
   ],
   "source": [
    "#Printing the final route\n",
    "print('Route: ')\n",
    "route('E','G')"
   ]
  },
  {
   "cell_type": "code",
   "execution_count": 39,
   "id": "b70ed1d4",
   "metadata": {},
   "outputs": [
    {
     "name": "stdout",
     "output_type": "stream",
     "text": [
      "Route: \n"
     ]
    },
    {
     "data": {
      "text/plain": [
       "['A', 'B', 'C', 'G']"
      ]
     },
     "execution_count": 39,
     "metadata": {},
     "output_type": "execute_result"
    }
   ],
   "source": [
    "#Printing the final route\n",
    "print('Route: ')\n",
    "route('A','G')"
   ]
  },
  {
   "cell_type": "code",
   "execution_count": 40,
   "id": "3d9f20ba",
   "metadata": {},
   "outputs": [
    {
     "name": "stdout",
     "output_type": "stream",
     "text": [
      "Route: \n"
     ]
    },
    {
     "data": {
      "text/plain": [
       "['K', 'L', 'H', 'G']"
      ]
     },
     "execution_count": 40,
     "metadata": {},
     "output_type": "execute_result"
    }
   ],
   "source": [
    "#Printing the final route\n",
    "print('Route: ')\n",
    "route('K','G')"
   ]
  },
  {
   "cell_type": "code",
   "execution_count": 41,
   "id": "b22f335e",
   "metadata": {},
   "outputs": [
    {
     "data": {
      "text/plain": [
       "['E', 'I', 'J', 'K', 'L', 'H', 'G']"
      ]
     },
     "execution_count": 41,
     "metadata": {},
     "output_type": "execute_result"
    }
   ],
   "source": [
    "def best_route(starting_location, intermediary_location, ending_location):\n",
    "    return route(starting_location, intermediary_location) + route(intermediary_location, ending_location)[1:]\n",
    "\n",
    "best_route('E', 'K', 'G')"
   ]
  },
  {
   "cell_type": "code",
   "execution_count": null,
   "id": "1efd797b",
   "metadata": {},
   "outputs": [],
   "source": []
  }
 ],
 "metadata": {
  "kernelspec": {
   "display_name": "Python 3",
   "language": "python",
   "name": "python3"
  },
  "language_info": {
   "codemirror_mode": {
    "name": "ipython",
    "version": 3
   },
   "file_extension": ".py",
   "mimetype": "text/x-python",
   "name": "python",
   "nbconvert_exporter": "python",
   "pygments_lexer": "ipython3",
   "version": "3.8.8"
  }
 },
 "nbformat": 4,
 "nbformat_minor": 5
}
